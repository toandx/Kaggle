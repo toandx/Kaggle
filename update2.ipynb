{
 "cells": [
  {
   "cell_type": "code",
   "execution_count": 1,
   "metadata": {},
   "outputs": [
    {
     "name": "stderr",
     "output_type": "stream",
     "text": [
      "/usr/local/lib/python3.5/dist-packages/h5py/__init__.py:36: FutureWarning: Conversion of the second argument of issubdtype from `float` to `np.floating` is deprecated. In future, it will be treated as `np.float64 == np.dtype(float).type`.\n",
      "  from ._conv import register_converters as _register_converters\n",
      "Using TensorFlow backend.\n",
      "/usr/local/lib/python3.5/dist-packages/ipykernel_launcher.py:8: FutureWarning: Method .as_matrix will be removed in a future version. Use .values instead.\n",
      "  \n",
      "/usr/local/lib/python3.5/dist-packages/ipykernel_launcher.py:9: FutureWarning: Method .as_matrix will be removed in a future version. Use .values instead.\n",
      "  if __name__ == '__main__':\n"
     ]
    }
   ],
   "source": [
    "import pandas as pd\n",
    "import numpy as np\n",
    "from keras import optimizers\n",
    "df=pd.read_csv('train.csv')\n",
    "features=df.iloc[:,:80];\n",
    "labels=df.iloc[:,80];\n",
    "features=pd.get_dummies(features)\n",
    "features=features.as_matrix()\n",
    "labels=labels.as_matrix()\n",
    "x_train=features[:1168,:]\n",
    "y_train=labels[:1168]\n",
    "x_val=features[1168:,:]\n",
    "y_val=labels[1168:]\n",
    "x_train=x_train.astype('float32')\n",
    "y_train=y_train.astype('float32');\n",
    "x_val=x_val.astype('float32');\n",
    "y_val=y_val.astype('float32');"
   ]
  },
  {
   "cell_type": "code",
   "execution_count": 2,
   "metadata": {},
   "outputs": [],
   "source": [
    "import keras\n",
    "from keras.models import Sequential,load_model\n",
    "from keras.layers import Dense, Dropout, Flatten\n",
    "from keras.layers import Conv2D, MaxPooling2D\n",
    "from keras import backend as K"
   ]
  },
  {
   "cell_type": "code",
   "execution_count": 3,
   "metadata": {},
   "outputs": [
    {
     "name": "stdout",
     "output_type": "stream",
     "text": [
      "_________________________________________________________________\n",
      "Layer (type)                 Output Shape              Param #   \n",
      "=================================================================\n",
      "dense_1 (Dense)              (None, 260)               75400     \n",
      "_________________________________________________________________\n",
      "dense_2 (Dense)              (None, 234)               61074     \n",
      "_________________________________________________________________\n",
      "dense_3 (Dense)              (None, 200)               47000     \n",
      "_________________________________________________________________\n",
      "dense_4 (Dense)              (None, 160)               32160     \n",
      "_________________________________________________________________\n",
      "dense_5 (Dense)              (None, 128)               20608     \n",
      "_________________________________________________________________\n",
      "dense_6 (Dense)              (None, 102)               13158     \n",
      "_________________________________________________________________\n",
      "dense_7 (Dense)              (None, 81)                8343      \n",
      "_________________________________________________________________\n",
      "dense_8 (Dense)              (None, 65)                5330      \n",
      "_________________________________________________________________\n",
      "dense_9 (Dense)              (None, 52)                3432      \n",
      "_________________________________________________________________\n",
      "dense_10 (Dense)             (None, 41)                2173      \n",
      "_________________________________________________________________\n",
      "dense_11 (Dense)             (None, 33)                1386      \n",
      "_________________________________________________________________\n",
      "dense_12 (Dense)             (None, 18)                612       \n",
      "_________________________________________________________________\n",
      "dense_13 (Dense)             (None, 10)                190       \n",
      "_________________________________________________________________\n",
      "dense_14 (Dense)             (None, 1)                 11        \n",
      "=================================================================\n",
      "Total params: 270,877\n",
      "Trainable params: 270,877\n",
      "Non-trainable params: 0\n",
      "_________________________________________________________________\n"
     ]
    }
   ],
   "source": [
    "batch_size=32\n",
    "model=Sequential()\n",
    "input_shape=(289,)\n",
    "model.add(Dense(260, activation='relu',input_shape=input_shape))\n",
    "model.add(Dense(234,activation='relu'))\n",
    "model.add(Dense(200,activation='relu'))\n",
    "model.add(Dense(160,activation='relu'))\n",
    "model.add(Dense(128,activation='relu'))\n",
    "model.add(Dense(102,activation='relu'))\n",
    "model.add(Dense(81,activation='relu'))\n",
    "model.add(Dense(65,activation='relu'))\n",
    "model.add(Dense(52,activation='relu'))\n",
    "model.add(Dense(41,activation='relu'))\n",
    "model.add(Dense(33,activation='relu'))\n",
    "model.add(Dense(18,activation='relu'))\n",
    "model.add(Dense(10,activation='relu'))\n",
    "model.add(Dense(1,activation='softmax'))\n",
    "model.summary()\n",
    "sgd = optimizers.SGD(lr=0.01, decay=1e-6, momentum=0.9, nesterov=True)\n",
    "model.compile(loss='mean_squared_error',\n",
    "              optimizer=sgd,\n",
    "              metrics=['accuracy'])"
   ]
  },
  {
   "cell_type": "code",
   "execution_count": 4,
   "metadata": {},
   "outputs": [
    {
     "name": "stdout",
     "output_type": "stream",
     "text": [
      "Train on 1168 samples, validate on 292 samples\n",
      "Epoch 1/3\n",
      "1168/1168 [==============================] - 2s 1ms/step - loss: nan - acc: 0.0000e+00 - val_loss: nan - val_acc: 0.0000e+00\n",
      "Epoch 2/3\n",
      "1168/1168 [==============================] - 0s 260us/step - loss: nan - acc: 0.0000e+00 - val_loss: nan - val_acc: 0.0000e+00\n",
      "Epoch 3/3\n",
      "1168/1168 [==============================] - 0s 209us/step - loss: nan - acc: 0.0000e+00 - val_loss: nan - val_acc: 0.0000e+00\n"
     ]
    },
    {
     "data": {
      "text/plain": [
       "<keras.callbacks.History at 0x7f74982d76a0>"
      ]
     },
     "execution_count": 4,
     "metadata": {},
     "output_type": "execute_result"
    }
   ],
   "source": [
    "model.fit(x_train, y_train,\n",
    "          batch_size=batch_size,\n",
    "         epochs=3,\n",
    "          verbose=1,\n",
    "          validation_data=(x_val, y_val))"
   ]
  },
  {
   "cell_type": "code",
   "execution_count": null,
   "metadata": {},
   "outputs": [],
   "source": []
  }
 ],
 "metadata": {
  "kernelspec": {
   "display_name": "Python 3",
   "language": "python",
   "name": "python3"
  },
  "language_info": {
   "codemirror_mode": {
    "name": "ipython",
    "version": 3
   },
   "file_extension": ".py",
   "mimetype": "text/x-python",
   "name": "python",
   "nbconvert_exporter": "python",
   "pygments_lexer": "ipython3",
   "version": "3.5.2"
  }
 },
 "nbformat": 4,
 "nbformat_minor": 2
}
