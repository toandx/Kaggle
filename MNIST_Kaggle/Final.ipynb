{
 "cells": [
  {
   "cell_type": "code",
   "execution_count": 1,
   "metadata": {},
   "outputs": [
    {
     "name": "stderr",
     "output_type": "stream",
     "text": [
      "/usr/local/lib/python3.5/dist-packages/h5py/__init__.py:36: FutureWarning: Conversion of the second argument of issubdtype from `float` to `np.floating` is deprecated. In future, it will be treated as `np.float64 == np.dtype(float).type`.\n",
      "  from ._conv import register_converters as _register_converters\n",
      "Using TensorFlow backend.\n"
     ]
    }
   ],
   "source": [
    "import numpy as np\n",
    "import keras\n",
    "import pandas as pd\n",
    "from keras.datasets import mnist\n",
    "from keras.models import Sequential,load_model\n",
    "from keras.layers import Dense, Dropout, Flatten\n",
    "from keras.layers import Conv2D, MaxPooling2D\n",
    "from keras import backend as K"
   ]
  },
  {
   "cell_type": "code",
   "execution_count": 2,
   "metadata": {},
   "outputs": [
    {
     "name": "stderr",
     "output_type": "stream",
     "text": [
      "/usr/local/lib/python3.5/dist-packages/ipykernel_launcher.py:4: FutureWarning: Method .as_matrix will be removed in a future version. Use .values instead.\n",
      "  after removing the cwd from sys.path.\n",
      "/usr/local/lib/python3.5/dist-packages/ipykernel_launcher.py:5: FutureWarning: Method .as_matrix will be removed in a future version. Use .values instead.\n",
      "  \"\"\"\n"
     ]
    }
   ],
   "source": [
    "df_train=pd.read_csv('train.csv')\n",
    "df_features=df_train.iloc[:,1:785]\n",
    "df_labels=df_train.iloc[:,0]\n",
    "df_features=df_features.as_matrix()\n",
    "df_labels=df_labels.as_matrix()\n",
    "x_train=df_features[:33600,:]\n",
    "x_train=x_train.reshape(x_train.shape[0],28,28,1)\n",
    "x_val=df_features[33600:,:]\n",
    "x_val=x_val.reshape(x_val.shape[0],28,28,1)\n",
    "y_train = keras.utils.to_categorical(df_labels[:33600], 10)\n",
    "y_val = keras.utils.to_categorical(df_labels[33600:], 10)"
   ]
  },
  {
   "cell_type": "code",
   "execution_count": 3,
   "metadata": {},
   "outputs": [],
   "source": [
    "input_shape=(28,28,1)\n",
    "epochs=1\n",
    "batch_size=128\n",
    "model = Sequential()\n",
    "input_shape=(28,28,1)\n",
    "model.add(Conv2D(32, kernel_size=(3, 3),\n",
    "                 activation='relu',\n",
    "                 input_shape=input_shape))\n",
    "model.add(Conv2D(64, (3, 3), activation='relu'))\n",
    "model.add(MaxPooling2D(pool_size=(2, 2)))\n",
    "model.add(Dropout(0.25))\n",
    "model.add(Flatten())\n",
    "model.add(Dense(128, activation='relu'))\n",
    "model.add(Dropout(0.5))\n",
    "model.add(Dense(10, activation='softmax'))"
   ]
  },
  {
   "cell_type": "code",
   "execution_count": 4,
   "metadata": {},
   "outputs": [
    {
     "name": "stdout",
     "output_type": "stream",
     "text": [
      "_________________________________________________________________\n",
      "Layer (type)                 Output Shape              Param #   \n",
      "=================================================================\n",
      "conv2d_1 (Conv2D)            (None, 26, 26, 32)        320       \n",
      "_________________________________________________________________\n",
      "conv2d_2 (Conv2D)            (None, 24, 24, 64)        18496     \n",
      "_________________________________________________________________\n",
      "max_pooling2d_1 (MaxPooling2 (None, 12, 12, 64)        0         \n",
      "_________________________________________________________________\n",
      "dropout_1 (Dropout)          (None, 12, 12, 64)        0         \n",
      "_________________________________________________________________\n",
      "flatten_1 (Flatten)          (None, 9216)              0         \n",
      "_________________________________________________________________\n",
      "dense_1 (Dense)              (None, 128)               1179776   \n",
      "_________________________________________________________________\n",
      "dropout_2 (Dropout)          (None, 128)               0         \n",
      "_________________________________________________________________\n",
      "dense_2 (Dense)              (None, 10)                1290      \n",
      "=================================================================\n",
      "Total params: 1,199,882\n",
      "Trainable params: 1,199,882\n",
      "Non-trainable params: 0\n",
      "_________________________________________________________________\n"
     ]
    }
   ],
   "source": [
    "model.summary()"
   ]
  },
  {
   "cell_type": "code",
   "execution_count": 5,
   "metadata": {},
   "outputs": [],
   "source": [
    "x_train=x_train.astype('float32'); x_val=x_val.astype('float32');\n",
    "x_train=x_train/255;x_val=x_val/255;\n",
    "model.compile(loss=keras.losses.categorical_crossentropy,\n",
    "              optimizer=keras.optimizers.Adadelta(),\n",
    "              metrics=['accuracy'])\n"
   ]
  },
  {
   "cell_type": "code",
   "execution_count": 6,
   "metadata": {},
   "outputs": [
    {
     "name": "stdout",
     "output_type": "stream",
     "text": [
      "Train on 33600 samples, validate on 8400 samples\n",
      "Epoch 1/20\n",
      "33600/33600 [==============================] - 106s 3ms/step - loss: 0.3544 - acc: 0.8919 - val_loss: 0.0984 - val_acc: 0.9675\n",
      "Epoch 2/20\n",
      "33600/33600 [==============================] - 100s 3ms/step - loss: 0.1125 - acc: 0.9664 - val_loss: 0.0568 - val_acc: 0.9808\n",
      "Epoch 3/20\n",
      "33600/33600 [==============================] - 101s 3ms/step - loss: 0.0831 - acc: 0.9749 - val_loss: 0.0500 - val_acc: 0.9844\n",
      "Epoch 4/20\n",
      "33600/33600 [==============================] - 100s 3ms/step - loss: 0.0683 - acc: 0.9790 - val_loss: 0.0427 - val_acc: 0.9861\n",
      "Epoch 5/20\n",
      "33600/33600 [==============================] - 100s 3ms/step - loss: 0.0569 - acc: 0.9822 - val_loss: 0.0460 - val_acc: 0.9860\n",
      "Epoch 6/20\n",
      "33600/33600 [==============================] - 104s 3ms/step - loss: 0.0484 - acc: 0.9855 - val_loss: 0.0419 - val_acc: 0.9875\n",
      "Epoch 7/20\n",
      "33600/33600 [==============================] - 102s 3ms/step - loss: 0.0428 - acc: 0.9868 - val_loss: 0.0368 - val_acc: 0.9881\n",
      "Epoch 8/20\n",
      "33600/33600 [==============================] - 103s 3ms/step - loss: 0.0371 - acc: 0.9886 - val_loss: 0.0397 - val_acc: 0.9885\n",
      "Epoch 9/20\n",
      "33600/33600 [==============================] - 103s 3ms/step - loss: 0.0335 - acc: 0.9900 - val_loss: 0.0368 - val_acc: 0.9895\n",
      "Epoch 10/20\n",
      "33600/33600 [==============================] - 102s 3ms/step - loss: 0.0314 - acc: 0.9899 - val_loss: 0.0417 - val_acc: 0.9882\n",
      "Epoch 11/20\n",
      "33600/33600 [==============================] - 103s 3ms/step - loss: 0.0294 - acc: 0.9907 - val_loss: 0.0362 - val_acc: 0.9895\n",
      "Epoch 12/20\n",
      "33600/33600 [==============================] - 103s 3ms/step - loss: 0.0268 - acc: 0.9914 - val_loss: 0.0372 - val_acc: 0.9890\n",
      "Epoch 13/20\n",
      "33600/33600 [==============================] - 100s 3ms/step - loss: 0.0257 - acc: 0.9917 - val_loss: 0.0344 - val_acc: 0.9907\n",
      "Epoch 14/20\n",
      "33600/33600 [==============================] - 101s 3ms/step - loss: 0.0213 - acc: 0.9932 - val_loss: 0.0376 - val_acc: 0.9901\n",
      "Epoch 15/20\n",
      "33600/33600 [==============================] - 100s 3ms/step - loss: 0.0208 - acc: 0.9940 - val_loss: 0.0362 - val_acc: 0.9902\n",
      "Epoch 16/20\n",
      "33600/33600 [==============================] - 102s 3ms/step - loss: 0.0205 - acc: 0.9930 - val_loss: 0.0347 - val_acc: 0.9907\n",
      "Epoch 17/20\n",
      "33600/33600 [==============================] - 101s 3ms/step - loss: 0.0194 - acc: 0.9937 - val_loss: 0.0356 - val_acc: 0.9907\n",
      "Epoch 18/20\n",
      "33600/33600 [==============================] - 102s 3ms/step - loss: 0.0179 - acc: 0.9941 - val_loss: 0.0398 - val_acc: 0.9900\n",
      "Epoch 19/20\n",
      "33600/33600 [==============================] - 101s 3ms/step - loss: 0.0185 - acc: 0.9940 - val_loss: 0.0361 - val_acc: 0.9888\n",
      "Epoch 20/20\n",
      "33600/33600 [==============================] - 103s 3ms/step - loss: 0.0153 - acc: 0.9952 - val_loss: 0.0416 - val_acc: 0.9895\n"
     ]
    },
    {
     "data": {
      "text/plain": [
       "<keras.callbacks.History at 0x7f93c29c0be0>"
      ]
     },
     "execution_count": 6,
     "metadata": {},
     "output_type": "execute_result"
    }
   ],
   "source": [
    "model.fit(x_train, y_train,\n",
    "          batch_size=batch_size,\n",
    "         epochs=20,\n",
    "          verbose=1,\n",
    "          validation_data=(x_val, y_val))"
   ]
  },
  {
   "cell_type": "code",
   "execution_count": 7,
   "metadata": {},
   "outputs": [],
   "source": [
    "model.save('Best-MNIST-CNN-model.h5');"
   ]
  },
  {
   "cell_type": "code",
   "execution_count": 8,
   "metadata": {},
   "outputs": [
    {
     "name": "stderr",
     "output_type": "stream",
     "text": [
      "/usr/local/lib/python3.5/dist-packages/ipykernel_launcher.py:3: FutureWarning: Method .as_matrix will be removed in a future version. Use .values instead.\n",
      "  This is separate from the ipykernel package so we can avoid doing imports until\n"
     ]
    }
   ],
   "source": [
    "df_test=pd.read_csv('test.csv');\n",
    "df_test=df_test.iloc[:,0:784]\n",
    "x_test=df_test.as_matrix()\n",
    "x_test=x_test.reshape(x_test.shape[0],28,28,1)\n",
    "x_test=x_test.astype('float32');\n",
    "x_test=x_test/255;"
   ]
  },
  {
   "cell_type": "code",
   "execution_count": 9,
   "metadata": {},
   "outputs": [],
   "source": [
    "res=model.predict(x_test)"
   ]
  },
  {
   "cell_type": "code",
   "execution_count": 10,
   "metadata": {},
   "outputs": [],
   "source": [
    "predict=np.argmax(res,axis=1);"
   ]
  },
  {
   "cell_type": "code",
   "execution_count": 11,
   "metadata": {},
   "outputs": [],
   "source": [
    "submissions=pd.DataFrame({\"ImageId\": list(range(1,len(predict)+1)), \"Label\": predict})\n",
    "submissions.to_csv(\"best-submis.csv\", index=False, header=True)"
   ]
  },
  {
   "cell_type": "code",
   "execution_count": null,
   "metadata": {},
   "outputs": [],
   "source": []
  }
 ],
 "metadata": {
  "kernelspec": {
   "display_name": "Python 3",
   "language": "python",
   "name": "python3"
  },
  "language_info": {
   "codemirror_mode": {
    "name": "ipython",
    "version": 3
   },
   "file_extension": ".py",
   "mimetype": "text/x-python",
   "name": "python",
   "nbconvert_exporter": "python",
   "pygments_lexer": "ipython3",
   "version": "3.5.2"
  }
 },
 "nbformat": 4,
 "nbformat_minor": 2
}
